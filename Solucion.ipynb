{
 "cells": [
  {
   "cell_type": "code",
   "execution_count": 6,
   "metadata": {},
   "outputs": [
    {
     "name": "stdout",
     "output_type": "stream",
     "text": [
      "Alpha: 61.399602476789305, Beta: 61.399602476789305\n"
     ]
    }
   ],
   "source": [
    "import numpy as np\n",
    "\n",
    "def metodo_gauss_seidel(w, sigma, u, e, alpha_inicial=1.0, beta_inicial=1.0, max_iter=1000, tol=1e-6):\n",
    "    u_0 = 4 * np.pi * 1e-7\n",
    "    e_0 = (1e-9) / (36 * np.pi)\n",
    "    \n",
    "    # Verificar si es un buen conductor\n",
    "    if sigma / (w * e) > 10:  # sigma / (w * e) >> 1\n",
    "        alpha = beta = np.sqrt((u * w * sigma)/(2))\n",
    "        return alpha, beta\n",
    "    \n",
    "    else:\n",
    "        alpha = alpha_inicial\n",
    "        beta = beta_inicial\n",
    "        for i in range(max_iter):\n",
    "            # Guardar valores antiguos para verificar la convergencia\n",
    "            alpha_antiguo = alpha\n",
    "            beta_antiguo = beta\n",
    "\n",
    "            # Actualizar alpha usando el valor actual de beta\n",
    "            alpha = w * sigma * u / (2 * beta)\n",
    "            \n",
    "            # Actualizar beta usando el nuevo valor de alpha\n",
    "            beta = (alpha**2 + w**2 * u * e)**0.5\n",
    "\n",
    "            # Verificar la convergencia\n",
    "            if abs(alpha - alpha_antiguo) < tol and abs(beta - beta_antiguo) < tol:\n",
    "                break\n",
    "\n",
    "        return alpha, beta\n",
    "\n",
    "# Prueba\n",
    "w = 1e8\n",
    "sigma = 3\n",
    "u = 20*4*np.pi*1e-7\n",
    "e = (1e-9)/(36*np.pi)\n",
    "\n",
    "alpha, beta = metodo_gauss_seidel(w, sigma, u, e)\n",
    "print(f\"Alpha: {alpha}, Beta: {beta}\")"
   ]
  }
 ],
 "metadata": {
  "kernelspec": {
   "display_name": "Python 3",
   "language": "python",
   "name": "python3"
  },
  "language_info": {
   "codemirror_mode": {
    "name": "ipython",
    "version": 3
   },
   "file_extension": ".py",
   "mimetype": "text/x-python",
   "name": "python",
   "nbconvert_exporter": "python",
   "pygments_lexer": "ipython3",
   "version": "3.11.2"
  }
 },
 "nbformat": 4,
 "nbformat_minor": 2
}
