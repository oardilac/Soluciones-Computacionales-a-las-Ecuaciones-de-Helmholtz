{
 "cells": [
  {
   "cell_type": "code",
   "execution_count": 14,
   "metadata": {},
   "outputs": [
    {
     "name": "stdout",
     "output_type": "stream",
     "text": [
      "¡Número máximo de iteraciones alcanzado!\n",
      "Alpha: 0.5000000005699198\n",
      "Beta: 20.000036475725903\n"
     ]
    }
   ],
   "source": [
    "import numpy as np\n",
    "\n",
    "def metodo_gauss_seidel(w, u, e, sigma, tolerancia=1e-6, max_iteraciones=1000):\n",
    "    \n",
    "    # Inicialización de alpha y beta con los valores esperados\n",
    "    alpha = 0.5\n",
    "    beta = 20.0\n",
    "    \n",
    "    for iteracion in range(max_iteraciones):\n",
    "        alpha_anterior, beta_anterior = alpha, beta\n",
    "\n",
    "        # Actualizamos alpha y beta\n",
    "        alpha = np.sqrt(beta_anterior**2 - w**2 * u * e)\n",
    "        beta = (w * sigma * u) / (2 * alpha_anterior)\n",
    "        \n",
    "        # Verificar la convergencia\n",
    "        if np.abs(alpha - alpha_anterior) < tolerancia and np.abs(beta - beta_anterior) < tolerancia:\n",
    "            return alpha, beta\n",
    "\n",
    "    print(\"¡Número máximo de iteraciones alcanzado!\")\n",
    "    return alpha, beta\n",
    "\n",
    "# Ejemplo de uso\n",
    "w = 100*np.pi*2  \n",
    "u = 4*np.pi*1e-7  \n",
    "e = (8.1*1e-9*1e-10)/(36*np.pi)  \n",
    "sigma = 0.025  \n",
    "\n",
    "alpha, beta = metodo_gauss_seidel(w, u, e, sigma)\n",
    "print(\"Alpha:\", alpha)\n",
    "print(\"Beta:\", beta)"
   ]
  }
 ],
 "metadata": {
  "kernelspec": {
   "display_name": "Python 3",
   "language": "python",
   "name": "python3"
  },
  "language_info": {
   "codemirror_mode": {
    "name": "ipython",
    "version": 3
   },
   "file_extension": ".py",
   "mimetype": "text/x-python",
   "name": "python",
   "nbconvert_exporter": "python",
   "pygments_lexer": "ipython3",
   "version": "3.11.2"
  }
 },
 "nbformat": 4,
 "nbformat_minor": 2
}
