{
 "cells": [
  {
   "cell_type": "code",
   "execution_count": 27,
   "metadata": {},
   "outputs": [
    {
     "name": "stdout",
     "output_type": "stream",
     "text": [
      "Resultados para dieléctrico con pérdidas\n"
     ]
    },
    {
     "data": {
      "text/latex": [
       "$\\displaystyle \\alpha = 0.49303072336522935 \\, \\text{Np/m}$"
      ],
      "text/plain": [
       "<IPython.core.display.Math object>"
      ]
     },
     "metadata": {},
     "output_type": "display_data"
    },
    {
     "data": {
      "text/latex": [
       "$\\displaystyle \\beta = 20.01823402391339 \\, \\text{rad/m}$"
      ],
      "text/plain": [
       "<IPython.core.display.Math object>"
      ]
     },
     "metadata": {},
     "output_type": "display_data"
    },
    {
     "data": {
      "text/latex": [
       "$\\displaystyle v_p = 31387310.68721555 \\, \\text{m/s}$"
      ],
      "text/plain": [
       "<IPython.core.display.Math object>"
      ]
     },
     "metadata": {},
     "output_type": "display_data"
    },
    {
     "data": {
      "text/latex": [
       "$\\displaystyle \\lambda = 0.3138731068721555 \\, \\text{m}$"
      ],
      "text/plain": [
       "<IPython.core.display.Math object>"
      ]
     },
     "metadata": {},
     "output_type": "display_data"
    },
    {
     "data": {
      "text/latex": [
       "$\\displaystyle \\eta = 39.418546906141664 + j0.9708426163617657 \\, \\Omega$"
      ],
      "text/plain": [
       "<IPython.core.display.Math object>"
      ]
     },
     "metadata": {},
     "output_type": "display_data"
    },
    {
     "data": {
      "text/latex": [
       "$\\displaystyle E(z, t) = 5 \\cdot e^{-0.493 z} \\cdot \\cos(628318530.718t-20.0182 z) \\mathbf{ax} \\, \\text{{V/m}}$"
      ],
      "text/plain": [
       "<IPython.core.display.Math object>"
      ]
     },
     "metadata": {},
     "output_type": "display_data"
    },
    {
     "data": {
      "text/latex": [
       "$\\displaystyle H(z, t) = 0.1268 \\cdot e^{-0.493 z} \\cdot \\cos(628318530.718t-20.0182 z - 0.0246) \\mathbf{ay} \\, \\text{{A/m}}$"
      ],
      "text/plain": [
       "<IPython.core.display.Math object>"
      ]
     },
     "metadata": {},
     "output_type": "display_data"
    },
    {
     "name": "stdout",
     "output_type": "stream",
     "text": [
      "\n",
      "\n",
      "\n",
      "Resultados para un buen conductor\n"
     ]
    },
    {
     "data": {
      "text/latex": [
       "$\\displaystyle \\alpha = 61.399602476789305 \\, \\text{Np/m}$"
      ],
      "text/plain": [
       "<IPython.core.display.Math object>"
      ]
     },
     "metadata": {},
     "output_type": "display_data"
    },
    {
     "data": {
      "text/latex": [
       "$\\displaystyle \\beta = 61.399602476789305 \\, \\text{rad/m}$"
      ],
      "text/plain": [
       "<IPython.core.display.Math object>"
      ]
     },
     "metadata": {},
     "output_type": "display_data"
    },
    {
     "data": {
      "text/latex": [
       "$\\displaystyle v_p = 1628675.0396764 \\, \\text{m/s}$"
      ],
      "text/plain": [
       "<IPython.core.display.Math object>"
      ]
     },
     "metadata": {},
     "output_type": "display_data"
    },
    {
     "data": {
      "text/latex": [
       "$\\displaystyle \\lambda = 0.10233267079464886 \\, \\text{m}$"
      ],
      "text/plain": [
       "<IPython.core.display.Math object>"
      ]
     },
     "metadata": {},
     "output_type": "display_data"
    },
    {
     "data": {
      "text/latex": [
       "$\\displaystyle \\eta = 20.466533714465314 + j20.466533714465314 \\, \\Omega$"
      ],
      "text/plain": [
       "<IPython.core.display.Math object>"
      ]
     },
     "metadata": {},
     "output_type": "display_data"
    },
    {
     "data": {
      "text/latex": [
       "$\\displaystyle E(z, t) = 4 \\cdot e^{-61.3996 z} \\cdot \\cos(100000000.0t-61.3996 z) \\mathbf{ax} \\, \\text{{V/m}}$"
      ],
      "text/plain": [
       "<IPython.core.display.Math object>"
      ]
     },
     "metadata": {},
     "output_type": "display_data"
    },
    {
     "data": {
      "text/latex": [
       "$\\displaystyle H(z, t) = 0.1382 \\cdot e^{-61.3996 z} \\cdot \\cos(100000000.0t-61.3996 z - 0.7854) \\mathbf{ay} \\, \\text{{A/m}}$"
      ],
      "text/plain": [
       "<IPython.core.display.Math object>"
      ]
     },
     "metadata": {},
     "output_type": "display_data"
    }
   ],
   "source": [
    "import numpy as np\n",
    "from sympy import Eq, symbols, latex, I\n",
    "from IPython.display import display, Math\n",
    "\n",
    "def metodo_gauss_seidel(w, sigma, u, e, Eo, alpha_inicial=1.0, beta_inicial=1.0, max_iter=1000, tol=1e-6):\n",
    "    tan = sigma / (w * e)\n",
    "    alpha = alpha_inicial\n",
    "    beta = beta_inicial\n",
    "    \n",
    "    # Verificar si es un buen conductor\n",
    "    if tan > 25:  # sigma / (w * e) >> 1\n",
    "        alpha = beta = np.sqrt((u * w * sigma)/(2))\n",
    "        eta = np.pi/4\n",
    "    else:\n",
    "        for i in range(max_iter):\n",
    "            # Guardar valores antiguos para verificar la convergencia\n",
    "            alpha_antiguo = alpha\n",
    "            beta_antiguo = beta\n",
    "\n",
    "            # Actualizar alpha usando el valor actual de beta\n",
    "            alpha = w * sigma * u / (2 * beta)\n",
    "            \n",
    "            # Actualizar beta usando el nuevo valor de alpha\n",
    "            beta = (alpha**2 + w**2 * u * e)**0.5\n",
    "\n",
    "            # Verificar la convergencia\n",
    "            if abs(alpha - alpha_antiguo) < tol and abs(beta - beta_antiguo) < tol:\n",
    "                eta = 0.5*np.arctan(tan)\n",
    "                break\n",
    "\n",
    "    \n",
    "    # Variables fuera de la condición\n",
    "    velocidad_propagacion = w/beta\n",
    "    longitud_onda = (2*np.pi*velocidad_propagacion)/w\n",
    "    modulo_impedancia = (np.sqrt(u/e))/((1+tan**2)**0.25)\n",
    "    impedancia_real = modulo_impedancia*np.cos(eta)\n",
    "    impedancia_imaginaria = modulo_impedancia*np.sin(eta)\n",
    "    ecuacion_E = \"E(z, t) = {} \\cdot e^{{-{} z}} \\cdot \\cos({}t-{} z) \\mathbf{{ax}}\".format(\n",
    "        Eo, round(alpha, 4), round(w, 4), round(beta, 4))\n",
    "    ecuacion_H = \"H(z, t) = {} \\cdot e^{{-{} z}} \\cdot \\cos({}t-{} z - {}) \\mathbf{{ay}}\".format(\n",
    "        round(Eo/modulo_impedancia, 4), round(alpha, 4), round(w, 4), round(beta, 4), round(eta, 4))\n",
    "\n",
    "    \n",
    "    return {\n",
    "        'alpha': alpha,\n",
    "        'beta': beta,\n",
    "        'velocidad_propagacion': velocidad_propagacion,\n",
    "        'longitud_onda': longitud_onda,\n",
    "        'impedancia_real': impedancia_real,\n",
    "        'impedancia_imaginaria': impedancia_imaginaria,\n",
    "        'ecuacion_E': ecuacion_E,\n",
    "        'ecuacion_H': ecuacion_H\n",
    "    }\n",
    "\n",
    "def imprimir_resultados(resultados):\n",
    "    display(Math(r'\\alpha = {} \\, \\text{{Np/m}}'.format(resultados['alpha'])))\n",
    "    display(Math(r'\\beta = {} \\, \\text{{rad/m}}'.format(resultados['beta'])))\n",
    "    display(Math(r'v_p = {} \\, \\text{{m/s}}'.format(resultados['velocidad_propagacion'])))\n",
    "    display(Math(r'\\lambda = {} \\, \\text{{m}}'.format(resultados['longitud_onda'])))\n",
    "    display(Math(r'\\eta = {} + j{} \\, \\Omega'.format(resultados['impedancia_real'], resultados['impedancia_imaginaria'])))\n",
    "    display(Math(resultados['ecuacion_E'] + r' \\, \\text{{V/m}}'))\n",
    "    display(Math(resultados['ecuacion_H'] + r' \\, \\text{{A/m}}'))\n",
    "\n",
    "# Prueba Dielectrico con perdidas\n",
    "Eo = 5\n",
    "w = 100*2*np.pi*1e6\n",
    "sigma = 0.025\n",
    "u = 4*np.pi*1e-7\n",
    "e = (91.3*1e-9)/(36*np.pi)\n",
    "\n",
    "print(\"Resultados para dieléctrico con pérdidas\")\n",
    "resultados_dielectrico = metodo_gauss_seidel(w, sigma, u, e, Eo)\n",
    "imprimir_resultados(resultados_dielectrico)\n",
    "print(\"\\n\\n\")\n",
    "\n",
    "\n",
    "# Prueba buen conductor\n",
    "Eo = 4\n",
    "w = 1e8\n",
    "sigma = 3\n",
    "u = 20*4*np.pi*1e-7\n",
    "e = (1e-9)/(36*np.pi)\n",
    "\n",
    "print(\"Resultados para un buen conductor\")\n",
    "resultados_conductor = metodo_gauss_seidel(w, sigma, u, e, Eo)\n",
    "imprimir_resultados(resultados_conductor)"
   ]
  }
 ],
 "metadata": {
  "kernelspec": {
   "display_name": "Python 3",
   "language": "python",
   "name": "python3"
  },
  "language_info": {
   "codemirror_mode": {
    "name": "ipython",
    "version": 3
   },
   "file_extension": ".py",
   "mimetype": "text/x-python",
   "name": "python",
   "nbconvert_exporter": "python",
   "pygments_lexer": "ipython3",
   "version": "3.11.2"
  }
 },
 "nbformat": 4,
 "nbformat_minor": 2
}
