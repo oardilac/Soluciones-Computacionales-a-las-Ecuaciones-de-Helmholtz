{
 "cells": [
  {
   "cell_type": "code",
   "execution_count": 1,
   "metadata": {},
   "outputs": [
    {
     "name": "stdout",
     "output_type": "stream",
     "text": [
      "Alpha: 0.3333656539857366, Beta: 1.3743763811398666\n"
     ]
    }
   ],
   "source": [
    "import numpy as np\n",
    "\n",
    "def gauss_seidel(w, sigma, u, e, alpha_init=1.0, beta_init=1.0, max_iter=1000, tol=1e-6):\n",
    "    alpha = alpha_init\n",
    "    beta = beta_init\n",
    "\n",
    "    for _ in range(max_iter):\n",
    "        # Store old values for convergence check\n",
    "        alpha_old = alpha\n",
    "        beta_old = beta\n",
    "\n",
    "        # Update alpha using current beta\n",
    "        alpha = w * sigma * u / (2 * beta)\n",
    "        \n",
    "        # Update beta using new alpha\n",
    "        beta = (alpha**2 + w**2 * u * e)**0.5\n",
    "\n",
    "        # Check for convergence\n",
    "        if abs(alpha - alpha_old) < tol and abs(beta - beta_old) < tol:\n",
    "            break\n",
    "\n",
    "    return alpha, beta\n",
    "\n",
    "# Constants - You can adjust these values accordingly\n",
    "w = 1e8\n",
    "sigma = 0.003646\n",
    "u = 2*4*np.pi*1e-7\n",
    "e = (8*1e-9)/(36*np.pi)\n",
    "\n",
    "alpha, beta = gauss_seidel(w, sigma, u, e)\n",
    "print(f\"Alpha: {alpha}, Beta: {beta}\")"
   ]
  }
 ],
 "metadata": {
  "kernelspec": {
   "display_name": "Python 3",
   "language": "python",
   "name": "python3"
  },
  "language_info": {
   "codemirror_mode": {
    "name": "ipython",
    "version": 3
   },
   "file_extension": ".py",
   "mimetype": "text/x-python",
   "name": "python",
   "nbconvert_exporter": "python",
   "pygments_lexer": "ipython3",
   "version": "3.11.2"
  }
 },
 "nbformat": 4,
 "nbformat_minor": 2
}
